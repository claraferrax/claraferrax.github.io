{
 "cells": [
  {
   "cell_type": "markdown",
   "metadata": {},
   "source": [
    "# Churn Prediction Project"
   ]
  },
  {
   "cell_type": "markdown",
   "metadata": {},
   "source": [
    "## Introduction\n",
    "The aim of the project is to predict which customers of a bank will leave their credit card service. To be able do that we use 17 different variables: the response variable “Attrition_Flag”, and the 16 predictor variables divided in demographic variables and variables (product).\n"
   ]
  },
  {
   "cell_type": "markdown",
   "metadata": {},
   "source": [
    "## Methods\n",
    "First, we thought about which algorithm best fitted the request: we were asked to make a prediction, in the specific, the model needed to solve a classification problem: ‘leave or not leave’. Consequently, we could have used KNN, SVM, Decision Trees or Random forests. We knew that the data provided was not linearly separable and so SVM would have not displayed very high accuracy, moreover since we were provided with a wide dataset, random forests were likely more accurate than decisions trees. So, in our opinion KNN and Random Forests were the algorithms which most fitted.\n",
    "\n",
    "To prove our assumption, we applied to our dataset: Logistic Regression since it could have been modified to somehow respond to our problem (even if we expected it not to have highest accuracy), SVM to prove dataset was not linearly separable, Decision Trees to measure its accuracy and then our 2 target algorithms; Random Forests and KNN.\n",
    "\n",
    "To develop our model, we chose to drop off the client number because it was not relevant for the result we wanted to obtain: the id of a customer does not influence or affect in any way the choice of a credit card service.\n",
    "\n",
    "Building our model, we decided to apportion the data into training and test sets, with an 80-20 split.\n",
    "\n",
    "To run our project, we created a virtual environment using conda and installed the Jupyter package. We also installed in the environment the libraries “NumPy”, “pandas”, “matplotlib”, “sklearn” ans “seaborn”. Finally, we activated that environment in VS Code where we run our code.\n"
   ]
  },
  {
   "cell_type": "markdown",
   "metadata": {},
   "source": [
    "## Code"
   ]
  },
  {
   "cell_type": "markdown",
   "metadata": {},
   "source": [
    "### Importing the Necessary Libraries and Reading the Inpute Dataset"
   ]
  },
  {
   "cell_type": "code",
   "execution_count": 1,
   "metadata": {},
   "outputs": [],
   "source": [
    "import numpy as np\n",
    "import csv\n",
    "import pandas as pd \n",
    "import sklearn\n",
    "\n",
    "df=pd.read_csv(r'./churn.csv')"
   ]
  },
  {
   "cell_type": "code",
   "execution_count": 2,
   "metadata": {},
   "outputs": [
    {
     "name": "stdout",
     "output_type": "stream",
     "text": [
      "   Unnamed: 0  CLIENTNUM     Attrition_Flag  Customer_Age Gender  \\\n",
      "0           1  768805383  Existing Customer            45      M   \n",
      "1           2  818770008  Existing Customer            49      F   \n",
      "2           3  713982108  Existing Customer            51      M   \n",
      "3           4  769911858  Existing Customer            40      F   \n",
      "4           5  709106358  Existing Customer            40      M   \n",
      "\n",
      "   Dependent_count Education_Level Marital_Status Income_Category  \\\n",
      "0                3     High School        Married     $60K - $80K   \n",
      "1                5        Graduate         Single  Less than $40K   \n",
      "2                3        Graduate        Married    $80K - $120K   \n",
      "3                4     High School        Unknown  Less than $40K   \n",
      "4                3      Uneducated        Married     $60K - $80K   \n",
      "\n",
      "  Card_Category  Months_on_book  Total_Relationship_Count  \\\n",
      "0          Blue              39                         5   \n",
      "1          Blue              44                         6   \n",
      "2          Blue              36                         4   \n",
      "3          Blue              34                         3   \n",
      "4          Blue              21                         5   \n",
      "\n",
      "   Months_Inactive_12_mon  Contacts_Count_12_mon  Credit_Limit  \\\n",
      "0                       1                      3       12691.0   \n",
      "1                       1                      2        8256.0   \n",
      "2                       1                      0        3418.0   \n",
      "3                       4                      1        3313.0   \n",
      "4                       1                      0        4716.0   \n",
      "\n",
      "   Total_Trans_Amt  Total_Trans_Ct  Avg_Utilization_Ratio  \n",
      "0             1144              42                   1.01  \n",
      "1             1291              33                   1.45  \n",
      "2             1887              20                   0.00  \n",
      "3             1171              20                   1.16  \n",
      "4              816              28                   0.00  \n"
     ]
    }
   ],
   "source": [
    "print(df.head())"
   ]
  },
  {
   "cell_type": "code",
   "execution_count": 3,
   "metadata": {},
   "outputs": [
    {
     "name": "stdout",
     "output_type": "stream",
     "text": [
      "<class 'pandas.core.frame.DataFrame'>\n",
      "RangeIndex: 10127 entries, 0 to 10126\n",
      "Data columns (total 18 columns):\n",
      " #   Column                    Non-Null Count  Dtype  \n",
      "---  ------                    --------------  -----  \n",
      " 0   Unnamed: 0                10127 non-null  int64  \n",
      " 1   CLIENTNUM                 10127 non-null  int64  \n",
      " 2   Attrition_Flag            10127 non-null  object \n",
      " 3   Customer_Age              10127 non-null  int64  \n",
      " 4   Gender                    10127 non-null  object \n",
      " 5   Dependent_count           10127 non-null  int64  \n",
      " 6   Education_Level           10127 non-null  object \n",
      " 7   Marital_Status            10127 non-null  object \n",
      " 8   Income_Category           10127 non-null  object \n",
      " 9   Card_Category             10127 non-null  object \n",
      " 10  Months_on_book            10127 non-null  int64  \n",
      " 11  Total_Relationship_Count  10127 non-null  int64  \n",
      " 12  Months_Inactive_12_mon    10127 non-null  int64  \n",
      " 13  Contacts_Count_12_mon     10127 non-null  int64  \n",
      " 14  Credit_Limit              10127 non-null  float64\n",
      " 15  Total_Trans_Amt           10127 non-null  int64  \n",
      " 16  Total_Trans_Ct            10127 non-null  int64  \n",
      " 17  Avg_Utilization_Ratio     10127 non-null  float64\n",
      "dtypes: float64(2), int64(10), object(6)\n",
      "memory usage: 1.4+ MB\n"
     ]
    }
   ],
   "source": [
    "df.info()"
   ]
  },
  {
   "cell_type": "code",
   "execution_count": 4,
   "metadata": {},
   "outputs": [
    {
     "data": {
      "text/plain": "Unnamed: 0                  False\nCLIENTNUM                   False\nAttrition_Flag              False\nCustomer_Age                False\nGender                      False\nDependent_count             False\nEducation_Level             False\nMarital_Status              False\nIncome_Category             False\nCard_Category               False\nMonths_on_book              False\nTotal_Relationship_Count    False\nMonths_Inactive_12_mon      False\nContacts_Count_12_mon       False\nCredit_Limit                False\nTotal_Trans_Amt             False\nTotal_Trans_Ct              False\nAvg_Utilization_Ratio       False\ndtype: bool"
     },
     "execution_count": 4,
     "metadata": {},
     "output_type": "execute_result"
    }
   ],
   "source": [
    "df.isnull().any()"
   ]
  },
  {
   "cell_type": "markdown",
   "metadata": {},
   "source": [
    "### Splitting the dataset"
   ]
  },
  {
   "cell_type": "code",
   "execution_count": 5,
   "metadata": {},
   "outputs": [],
   "source": [
    "mask = np.random.rand(len(df)) <= 0.8\n",
    "training_data = df[mask]\n",
    "testing_data = df[~mask]"
   ]
  },
  {
   "cell_type": "code",
   "execution_count": 6,
   "metadata": {},
   "outputs": [
    {
     "data": {
      "text/html": "<div>\n<style scoped>\n    .dataframe tbody tr th:only-of-type {\n        vertical-align: middle;\n    }\n\n    .dataframe tbody tr th {\n        vertical-align: top;\n    }\n\n    .dataframe thead th {\n        text-align: right;\n    }\n</style>\n<table border=\"1\" class=\"dataframe\">\n  <thead>\n    <tr style=\"text-align: right;\">\n      <th></th>\n      <th>Unnamed: 0</th>\n      <th>CLIENTNUM</th>\n      <th>Customer_Age</th>\n      <th>Dependent_count</th>\n      <th>Months_on_book</th>\n      <th>Total_Relationship_Count</th>\n      <th>Months_Inactive_12_mon</th>\n      <th>Contacts_Count_12_mon</th>\n      <th>Credit_Limit</th>\n      <th>Total_Trans_Amt</th>\n      <th>Total_Trans_Ct</th>\n      <th>Avg_Utilization_Ratio</th>\n    </tr>\n  </thead>\n  <tbody>\n    <tr>\n      <th>count</th>\n      <td>10127.000000</td>\n      <td>1.012700e+04</td>\n      <td>10127.000000</td>\n      <td>10127.000000</td>\n      <td>10127.000000</td>\n      <td>10127.000000</td>\n      <td>10127.000000</td>\n      <td>10127.000000</td>\n      <td>10127.000000</td>\n      <td>10127.000000</td>\n      <td>10127.000000</td>\n      <td>10127.000000</td>\n    </tr>\n    <tr>\n      <th>mean</th>\n      <td>5064.000000</td>\n      <td>7.391776e+08</td>\n      <td>46.325960</td>\n      <td>2.346203</td>\n      <td>35.928409</td>\n      <td>3.812580</td>\n      <td>2.341167</td>\n      <td>2.455317</td>\n      <td>8631.953698</td>\n      <td>4404.086304</td>\n      <td>64.858695</td>\n      <td>4.018332</td>\n    </tr>\n    <tr>\n      <th>std</th>\n      <td>2923.557422</td>\n      <td>3.690378e+07</td>\n      <td>8.016814</td>\n      <td>1.298908</td>\n      <td>7.986416</td>\n      <td>1.554408</td>\n      <td>1.010622</td>\n      <td>1.106225</td>\n      <td>9088.776650</td>\n      <td>3397.129254</td>\n      <td>23.472570</td>\n      <td>4.490251</td>\n    </tr>\n    <tr>\n      <th>min</th>\n      <td>1.000000</td>\n      <td>7.080821e+08</td>\n      <td>26.000000</td>\n      <td>0.000000</td>\n      <td>13.000000</td>\n      <td>1.000000</td>\n      <td>0.000000</td>\n      <td>0.000000</td>\n      <td>1438.300000</td>\n      <td>510.000000</td>\n      <td>10.000000</td>\n      <td>0.000000</td>\n    </tr>\n    <tr>\n      <th>25%</th>\n      <td>2532.500000</td>\n      <td>7.130368e+08</td>\n      <td>41.000000</td>\n      <td>1.000000</td>\n      <td>31.000000</td>\n      <td>3.000000</td>\n      <td>2.000000</td>\n      <td>2.000000</td>\n      <td>2555.000000</td>\n      <td>2155.500000</td>\n      <td>45.000000</td>\n      <td>0.060000</td>\n    </tr>\n    <tr>\n      <th>50%</th>\n      <td>5064.000000</td>\n      <td>7.179264e+08</td>\n      <td>46.000000</td>\n      <td>2.000000</td>\n      <td>36.000000</td>\n      <td>4.000000</td>\n      <td>2.000000</td>\n      <td>2.000000</td>\n      <td>4549.000000</td>\n      <td>3899.000000</td>\n      <td>67.000000</td>\n      <td>2.120000</td>\n    </tr>\n    <tr>\n      <th>75%</th>\n      <td>7595.500000</td>\n      <td>7.731435e+08</td>\n      <td>52.000000</td>\n      <td>3.000000</td>\n      <td>40.000000</td>\n      <td>5.000000</td>\n      <td>3.000000</td>\n      <td>3.000000</td>\n      <td>11067.500000</td>\n      <td>4741.000000</td>\n      <td>81.000000</td>\n      <td>7.430000</td>\n    </tr>\n    <tr>\n      <th>max</th>\n      <td>10127.000000</td>\n      <td>8.283431e+08</td>\n      <td>73.000000</td>\n      <td>5.000000</td>\n      <td>56.000000</td>\n      <td>6.000000</td>\n      <td>6.000000</td>\n      <td>6.000000</td>\n      <td>34516.000000</td>\n      <td>18484.000000</td>\n      <td>139.000000</td>\n      <td>16.390000</td>\n    </tr>\n  </tbody>\n</table>\n</div>",
      "text/plain": "         Unnamed: 0     CLIENTNUM  Customer_Age  Dependent_count  \\\ncount  10127.000000  1.012700e+04  10127.000000     10127.000000   \nmean    5064.000000  7.391776e+08     46.325960         2.346203   \nstd     2923.557422  3.690378e+07      8.016814         1.298908   \nmin        1.000000  7.080821e+08     26.000000         0.000000   \n25%     2532.500000  7.130368e+08     41.000000         1.000000   \n50%     5064.000000  7.179264e+08     46.000000         2.000000   \n75%     7595.500000  7.731435e+08     52.000000         3.000000   \nmax    10127.000000  8.283431e+08     73.000000         5.000000   \n\n       Months_on_book  Total_Relationship_Count  Months_Inactive_12_mon  \\\ncount    10127.000000              10127.000000            10127.000000   \nmean        35.928409                  3.812580                2.341167   \nstd          7.986416                  1.554408                1.010622   \nmin         13.000000                  1.000000                0.000000   \n25%         31.000000                  3.000000                2.000000   \n50%         36.000000                  4.000000                2.000000   \n75%         40.000000                  5.000000                3.000000   \nmax         56.000000                  6.000000                6.000000   \n\n       Contacts_Count_12_mon  Credit_Limit  Total_Trans_Amt  Total_Trans_Ct  \\\ncount           10127.000000  10127.000000     10127.000000    10127.000000   \nmean                2.455317   8631.953698      4404.086304       64.858695   \nstd                 1.106225   9088.776650      3397.129254       23.472570   \nmin                 0.000000   1438.300000       510.000000       10.000000   \n25%                 2.000000   2555.000000      2155.500000       45.000000   \n50%                 2.000000   4549.000000      3899.000000       67.000000   \n75%                 3.000000  11067.500000      4741.000000       81.000000   \nmax                 6.000000  34516.000000     18484.000000      139.000000   \n\n       Avg_Utilization_Ratio  \ncount           10127.000000  \nmean                4.018332  \nstd                 4.490251  \nmin                 0.000000  \n25%                 0.060000  \n50%                 2.120000  \n75%                 7.430000  \nmax                16.390000  "
     },
     "execution_count": 6,
     "metadata": {},
     "output_type": "execute_result"
    }
   ],
   "source": [
    "df.describe()"
   ]
  },
  {
   "cell_type": "code",
   "execution_count": 7,
   "metadata": {},
   "outputs": [
    {
     "data": {
      "text/html": "<div>\n<style scoped>\n    .dataframe tbody tr th:only-of-type {\n        vertical-align: middle;\n    }\n\n    .dataframe tbody tr th {\n        vertical-align: top;\n    }\n\n    .dataframe thead th {\n        text-align: right;\n    }\n</style>\n<table border=\"1\" class=\"dataframe\">\n  <thead>\n    <tr style=\"text-align: right;\">\n      <th></th>\n      <th>Attrition_Flag</th>\n      <th>Gender</th>\n      <th>Education_Level</th>\n      <th>Marital_Status</th>\n      <th>Income_Category</th>\n      <th>Card_Category</th>\n    </tr>\n  </thead>\n  <tbody>\n    <tr>\n      <th>count</th>\n      <td>10127</td>\n      <td>10127</td>\n      <td>10127</td>\n      <td>10127</td>\n      <td>10127</td>\n      <td>10127</td>\n    </tr>\n    <tr>\n      <th>unique</th>\n      <td>2</td>\n      <td>2</td>\n      <td>7</td>\n      <td>4</td>\n      <td>6</td>\n      <td>4</td>\n    </tr>\n    <tr>\n      <th>top</th>\n      <td>Existing Customer</td>\n      <td>F</td>\n      <td>Graduate</td>\n      <td>Married</td>\n      <td>Less than $40K</td>\n      <td>Blue</td>\n    </tr>\n    <tr>\n      <th>freq</th>\n      <td>8500</td>\n      <td>5358</td>\n      <td>3128</td>\n      <td>4687</td>\n      <td>3561</td>\n      <td>9436</td>\n    </tr>\n  </tbody>\n</table>\n</div>",
      "text/plain": "           Attrition_Flag Gender Education_Level Marital_Status  \\\ncount               10127  10127           10127          10127   \nunique                  2      2               7              4   \ntop     Existing Customer      F        Graduate        Married   \nfreq                 8500   5358            3128           4687   \n\n       Income_Category Card_Category  \ncount            10127         10127  \nunique               6             4  \ntop     Less than $40K          Blue  \nfreq              3561          9436  "
     },
     "execution_count": 7,
     "metadata": {},
     "output_type": "execute_result"
    }
   ],
   "source": [
    "df.describe(include=['O'])"
   ]
  },
  {
   "cell_type": "code",
   "execution_count": 8,
   "metadata": {},
   "outputs": [],
   "source": [
    "combine = [training_data, testing_data]"
   ]
  },
  {
   "cell_type": "markdown",
   "metadata": {},
   "source": [
    "### Variable Encoding"
   ]
  },
  {
   "cell_type": "code",
   "execution_count": 9,
   "metadata": {},
   "outputs": [
    {
     "data": {
      "text/plain": "array(['Existing Customer', 'Attrited Customer'], dtype=object)"
     },
     "execution_count": 9,
     "metadata": {},
     "output_type": "execute_result"
    }
   ],
   "source": [
    "df[\"Attrition_Flag\"].unique()"
   ]
  },
  {
   "cell_type": "code",
   "execution_count": 10,
   "metadata": {},
   "outputs": [
    {
     "data": {
      "text/html": "<div>\n<style scoped>\n    .dataframe tbody tr th:only-of-type {\n        vertical-align: middle;\n    }\n\n    .dataframe tbody tr th {\n        vertical-align: top;\n    }\n\n    .dataframe thead th {\n        text-align: right;\n    }\n</style>\n<table border=\"1\" class=\"dataframe\">\n  <thead>\n    <tr style=\"text-align: right;\">\n      <th></th>\n      <th>Unnamed: 0</th>\n      <th>CLIENTNUM</th>\n      <th>Attrition_Flag</th>\n      <th>Customer_Age</th>\n      <th>Gender</th>\n      <th>Dependent_count</th>\n      <th>Education_Level</th>\n      <th>Marital_Status</th>\n      <th>Income_Category</th>\n      <th>Card_Category</th>\n      <th>Months_on_book</th>\n      <th>Total_Relationship_Count</th>\n      <th>Months_Inactive_12_mon</th>\n      <th>Contacts_Count_12_mon</th>\n      <th>Credit_Limit</th>\n      <th>Total_Trans_Amt</th>\n      <th>Total_Trans_Ct</th>\n      <th>Avg_Utilization_Ratio</th>\n    </tr>\n  </thead>\n  <tbody>\n    <tr>\n      <th>0</th>\n      <td>1</td>\n      <td>768805383</td>\n      <td>0</td>\n      <td>45</td>\n      <td>M</td>\n      <td>3</td>\n      <td>High School</td>\n      <td>Married</td>\n      <td>$60K - $80K</td>\n      <td>Blue</td>\n      <td>39</td>\n      <td>5</td>\n      <td>1</td>\n      <td>3</td>\n      <td>12691.0</td>\n      <td>1144</td>\n      <td>42</td>\n      <td>1.01</td>\n    </tr>\n    <tr>\n      <th>1</th>\n      <td>2</td>\n      <td>818770008</td>\n      <td>0</td>\n      <td>49</td>\n      <td>F</td>\n      <td>5</td>\n      <td>Graduate</td>\n      <td>Single</td>\n      <td>Less than $40K</td>\n      <td>Blue</td>\n      <td>44</td>\n      <td>6</td>\n      <td>1</td>\n      <td>2</td>\n      <td>8256.0</td>\n      <td>1291</td>\n      <td>33</td>\n      <td>1.45</td>\n    </tr>\n    <tr>\n      <th>2</th>\n      <td>3</td>\n      <td>713982108</td>\n      <td>0</td>\n      <td>51</td>\n      <td>M</td>\n      <td>3</td>\n      <td>Graduate</td>\n      <td>Married</td>\n      <td>$80K - $120K</td>\n      <td>Blue</td>\n      <td>36</td>\n      <td>4</td>\n      <td>1</td>\n      <td>0</td>\n      <td>3418.0</td>\n      <td>1887</td>\n      <td>20</td>\n      <td>0.00</td>\n    </tr>\n    <tr>\n      <th>3</th>\n      <td>4</td>\n      <td>769911858</td>\n      <td>0</td>\n      <td>40</td>\n      <td>F</td>\n      <td>4</td>\n      <td>High School</td>\n      <td>Unknown</td>\n      <td>Less than $40K</td>\n      <td>Blue</td>\n      <td>34</td>\n      <td>3</td>\n      <td>4</td>\n      <td>1</td>\n      <td>3313.0</td>\n      <td>1171</td>\n      <td>20</td>\n      <td>1.16</td>\n    </tr>\n    <tr>\n      <th>4</th>\n      <td>5</td>\n      <td>709106358</td>\n      <td>0</td>\n      <td>40</td>\n      <td>M</td>\n      <td>3</td>\n      <td>Uneducated</td>\n      <td>Married</td>\n      <td>$60K - $80K</td>\n      <td>Blue</td>\n      <td>21</td>\n      <td>5</td>\n      <td>1</td>\n      <td>0</td>\n      <td>4716.0</td>\n      <td>816</td>\n      <td>28</td>\n      <td>0.00</td>\n    </tr>\n  </tbody>\n</table>\n</div>",
      "text/plain": "   Unnamed: 0  CLIENTNUM  Attrition_Flag  Customer_Age Gender  \\\n0           1  768805383               0            45      M   \n1           2  818770008               0            49      F   \n2           3  713982108               0            51      M   \n3           4  769911858               0            40      F   \n4           5  709106358               0            40      M   \n\n   Dependent_count Education_Level Marital_Status Income_Category  \\\n0                3     High School        Married     $60K - $80K   \n1                5        Graduate         Single  Less than $40K   \n2                3        Graduate        Married    $80K - $120K   \n3                4     High School        Unknown  Less than $40K   \n4                3      Uneducated        Married     $60K - $80K   \n\n  Card_Category  Months_on_book  Total_Relationship_Count  \\\n0          Blue              39                         5   \n1          Blue              44                         6   \n2          Blue              36                         4   \n3          Blue              34                         3   \n4          Blue              21                         5   \n\n   Months_Inactive_12_mon  Contacts_Count_12_mon  Credit_Limit  \\\n0                       1                      3       12691.0   \n1                       1                      2        8256.0   \n2                       1                      0        3418.0   \n3                       4                      1        3313.0   \n4                       1                      0        4716.0   \n\n   Total_Trans_Amt  Total_Trans_Ct  Avg_Utilization_Ratio  \n0             1144              42                   1.01  \n1             1291              33                   1.45  \n2             1887              20                   0.00  \n3             1171              20                   1.16  \n4              816              28                   0.00  "
     },
     "execution_count": 10,
     "metadata": {},
     "output_type": "execute_result"
    }
   ],
   "source": [
    "for dataset in combine:\n",
    "    dataset[\"Attrition_Flag\"] = dataset[\"Attrition_Flag\"].map({\"Existing Customer\": 0, \"Attrited Customer\": 1}).astype(int)\n",
    "\n",
    "training_data.head()"
   ]
  },
  {
   "cell_type": "code",
   "execution_count": 11,
   "metadata": {},
   "outputs": [
    {
     "data": {
      "text/plain": "F    5358\nM    4769\nName: Gender, dtype: int64"
     },
     "execution_count": 11,
     "metadata": {},
     "output_type": "execute_result"
    }
   ],
   "source": [
    "df[\"Gender\"].value_counts()"
   ]
  },
  {
   "cell_type": "code",
   "execution_count": 12,
   "metadata": {},
   "outputs": [
    {
     "data": {
      "text/html": "<div>\n<style scoped>\n    .dataframe tbody tr th:only-of-type {\n        vertical-align: middle;\n    }\n\n    .dataframe tbody tr th {\n        vertical-align: top;\n    }\n\n    .dataframe thead th {\n        text-align: right;\n    }\n</style>\n<table border=\"1\" class=\"dataframe\">\n  <thead>\n    <tr style=\"text-align: right;\">\n      <th></th>\n      <th>Unnamed: 0</th>\n      <th>CLIENTNUM</th>\n      <th>Attrition_Flag</th>\n      <th>Customer_Age</th>\n      <th>Gender</th>\n      <th>Dependent_count</th>\n      <th>Education_Level</th>\n      <th>Marital_Status</th>\n      <th>Income_Category</th>\n      <th>Card_Category</th>\n      <th>Months_on_book</th>\n      <th>Total_Relationship_Count</th>\n      <th>Months_Inactive_12_mon</th>\n      <th>Contacts_Count_12_mon</th>\n      <th>Credit_Limit</th>\n      <th>Total_Trans_Amt</th>\n      <th>Total_Trans_Ct</th>\n      <th>Avg_Utilization_Ratio</th>\n    </tr>\n  </thead>\n  <tbody>\n    <tr>\n      <th>0</th>\n      <td>1</td>\n      <td>768805383</td>\n      <td>0</td>\n      <td>45</td>\n      <td>0</td>\n      <td>3</td>\n      <td>High School</td>\n      <td>Married</td>\n      <td>$60K - $80K</td>\n      <td>Blue</td>\n      <td>39</td>\n      <td>5</td>\n      <td>1</td>\n      <td>3</td>\n      <td>12691.0</td>\n      <td>1144</td>\n      <td>42</td>\n      <td>1.01</td>\n    </tr>\n    <tr>\n      <th>1</th>\n      <td>2</td>\n      <td>818770008</td>\n      <td>0</td>\n      <td>49</td>\n      <td>1</td>\n      <td>5</td>\n      <td>Graduate</td>\n      <td>Single</td>\n      <td>Less than $40K</td>\n      <td>Blue</td>\n      <td>44</td>\n      <td>6</td>\n      <td>1</td>\n      <td>2</td>\n      <td>8256.0</td>\n      <td>1291</td>\n      <td>33</td>\n      <td>1.45</td>\n    </tr>\n    <tr>\n      <th>2</th>\n      <td>3</td>\n      <td>713982108</td>\n      <td>0</td>\n      <td>51</td>\n      <td>0</td>\n      <td>3</td>\n      <td>Graduate</td>\n      <td>Married</td>\n      <td>$80K - $120K</td>\n      <td>Blue</td>\n      <td>36</td>\n      <td>4</td>\n      <td>1</td>\n      <td>0</td>\n      <td>3418.0</td>\n      <td>1887</td>\n      <td>20</td>\n      <td>0.00</td>\n    </tr>\n    <tr>\n      <th>3</th>\n      <td>4</td>\n      <td>769911858</td>\n      <td>0</td>\n      <td>40</td>\n      <td>1</td>\n      <td>4</td>\n      <td>High School</td>\n      <td>Unknown</td>\n      <td>Less than $40K</td>\n      <td>Blue</td>\n      <td>34</td>\n      <td>3</td>\n      <td>4</td>\n      <td>1</td>\n      <td>3313.0</td>\n      <td>1171</td>\n      <td>20</td>\n      <td>1.16</td>\n    </tr>\n    <tr>\n      <th>4</th>\n      <td>5</td>\n      <td>709106358</td>\n      <td>0</td>\n      <td>40</td>\n      <td>0</td>\n      <td>3</td>\n      <td>Uneducated</td>\n      <td>Married</td>\n      <td>$60K - $80K</td>\n      <td>Blue</td>\n      <td>21</td>\n      <td>5</td>\n      <td>1</td>\n      <td>0</td>\n      <td>4716.0</td>\n      <td>816</td>\n      <td>28</td>\n      <td>0.00</td>\n    </tr>\n  </tbody>\n</table>\n</div>",
      "text/plain": "   Unnamed: 0  CLIENTNUM  Attrition_Flag  Customer_Age  Gender  \\\n0           1  768805383               0            45       0   \n1           2  818770008               0            49       1   \n2           3  713982108               0            51       0   \n3           4  769911858               0            40       1   \n4           5  709106358               0            40       0   \n\n   Dependent_count Education_Level Marital_Status Income_Category  \\\n0                3     High School        Married     $60K - $80K   \n1                5        Graduate         Single  Less than $40K   \n2                3        Graduate        Married    $80K - $120K   \n3                4     High School        Unknown  Less than $40K   \n4                3      Uneducated        Married     $60K - $80K   \n\n  Card_Category  Months_on_book  Total_Relationship_Count  \\\n0          Blue              39                         5   \n1          Blue              44                         6   \n2          Blue              36                         4   \n3          Blue              34                         3   \n4          Blue              21                         5   \n\n   Months_Inactive_12_mon  Contacts_Count_12_mon  Credit_Limit  \\\n0                       1                      3       12691.0   \n1                       1                      2        8256.0   \n2                       1                      0        3418.0   \n3                       4                      1        3313.0   \n4                       1                      0        4716.0   \n\n   Total_Trans_Amt  Total_Trans_Ct  Avg_Utilization_Ratio  \n0             1144              42                   1.01  \n1             1291              33                   1.45  \n2             1887              20                   0.00  \n3             1171              20                   1.16  \n4              816              28                   0.00  "
     },
     "execution_count": 12,
     "metadata": {},
     "output_type": "execute_result"
    }
   ],
   "source": [
    "for dataset in combine:\n",
    "    dataset[\"Gender\"] = dataset[\"Gender\"].map({\"M\": 0, \"F\": 1}).astype(int)\n",
    "\n",
    "training_data.head()"
   ]
  },
  {
   "cell_type": "code",
   "execution_count": 13,
   "metadata": {},
   "outputs": [
    {
     "data": {
      "text/plain": "array(['High School', 'Graduate', 'Uneducated', 'Unknown', 'College',\n       'Post-Graduate', 'Doctorate'], dtype=object)"
     },
     "execution_count": 13,
     "metadata": {},
     "output_type": "execute_result"
    }
   ],
   "source": [
    "df['Education_Level'].unique()"
   ]
  },
  {
   "cell_type": "code",
   "execution_count": 14,
   "metadata": {},
   "outputs": [
    {
     "data": {
      "text/plain": "Graduate         2493\nHigh School      1638\nUnknown          1253\nUneducated       1184\nCollege           805\nPost-Graduate     421\nDoctorate         365\nName: Education_Level, dtype: int64"
     },
     "execution_count": 14,
     "metadata": {},
     "output_type": "execute_result"
    }
   ],
   "source": [
    "training_data['Education_Level'].value_counts()"
   ]
  },
  {
   "cell_type": "code",
   "execution_count": 15,
   "metadata": {},
   "outputs": [
    {
     "data": {
      "text/html": "<div>\n<style scoped>\n    .dataframe tbody tr th:only-of-type {\n        vertical-align: middle;\n    }\n\n    .dataframe tbody tr th {\n        vertical-align: top;\n    }\n\n    .dataframe thead th {\n        text-align: right;\n    }\n</style>\n<table border=\"1\" class=\"dataframe\">\n  <thead>\n    <tr style=\"text-align: right;\">\n      <th></th>\n      <th>Unnamed: 0</th>\n      <th>CLIENTNUM</th>\n      <th>Attrition_Flag</th>\n      <th>Customer_Age</th>\n      <th>Gender</th>\n      <th>Dependent_count</th>\n      <th>Education_Level</th>\n      <th>Marital_Status</th>\n      <th>Income_Category</th>\n      <th>Card_Category</th>\n      <th>Months_on_book</th>\n      <th>Total_Relationship_Count</th>\n      <th>Months_Inactive_12_mon</th>\n      <th>Contacts_Count_12_mon</th>\n      <th>Credit_Limit</th>\n      <th>Total_Trans_Amt</th>\n      <th>Total_Trans_Ct</th>\n      <th>Avg_Utilization_Ratio</th>\n    </tr>\n  </thead>\n  <tbody>\n    <tr>\n      <th>0</th>\n      <td>1</td>\n      <td>768805383</td>\n      <td>0</td>\n      <td>45</td>\n      <td>0</td>\n      <td>3</td>\n      <td>1</td>\n      <td>Married</td>\n      <td>$60K - $80K</td>\n      <td>Blue</td>\n      <td>39</td>\n      <td>5</td>\n      <td>1</td>\n      <td>3</td>\n      <td>12691.0</td>\n      <td>1144</td>\n      <td>42</td>\n      <td>1.01</td>\n    </tr>\n    <tr>\n      <th>1</th>\n      <td>2</td>\n      <td>818770008</td>\n      <td>0</td>\n      <td>49</td>\n      <td>1</td>\n      <td>5</td>\n      <td>3</td>\n      <td>Single</td>\n      <td>Less than $40K</td>\n      <td>Blue</td>\n      <td>44</td>\n      <td>6</td>\n      <td>1</td>\n      <td>2</td>\n      <td>8256.0</td>\n      <td>1291</td>\n      <td>33</td>\n      <td>1.45</td>\n    </tr>\n    <tr>\n      <th>2</th>\n      <td>3</td>\n      <td>713982108</td>\n      <td>0</td>\n      <td>51</td>\n      <td>0</td>\n      <td>3</td>\n      <td>3</td>\n      <td>Married</td>\n      <td>$80K - $120K</td>\n      <td>Blue</td>\n      <td>36</td>\n      <td>4</td>\n      <td>1</td>\n      <td>0</td>\n      <td>3418.0</td>\n      <td>1887</td>\n      <td>20</td>\n      <td>0.00</td>\n    </tr>\n    <tr>\n      <th>3</th>\n      <td>4</td>\n      <td>769911858</td>\n      <td>0</td>\n      <td>40</td>\n      <td>1</td>\n      <td>4</td>\n      <td>1</td>\n      <td>Unknown</td>\n      <td>Less than $40K</td>\n      <td>Blue</td>\n      <td>34</td>\n      <td>3</td>\n      <td>4</td>\n      <td>1</td>\n      <td>3313.0</td>\n      <td>1171</td>\n      <td>20</td>\n      <td>1.16</td>\n    </tr>\n    <tr>\n      <th>4</th>\n      <td>5</td>\n      <td>709106358</td>\n      <td>0</td>\n      <td>40</td>\n      <td>0</td>\n      <td>3</td>\n      <td>0</td>\n      <td>Married</td>\n      <td>$60K - $80K</td>\n      <td>Blue</td>\n      <td>21</td>\n      <td>5</td>\n      <td>1</td>\n      <td>0</td>\n      <td>4716.0</td>\n      <td>816</td>\n      <td>28</td>\n      <td>0.00</td>\n    </tr>\n  </tbody>\n</table>\n</div>",
      "text/plain": "   Unnamed: 0  CLIENTNUM  Attrition_Flag  Customer_Age  Gender  \\\n0           1  768805383               0            45       0   \n1           2  818770008               0            49       1   \n2           3  713982108               0            51       0   \n3           4  769911858               0            40       1   \n4           5  709106358               0            40       0   \n\n   Dependent_count  Education_Level Marital_Status Income_Category  \\\n0                3                1        Married     $60K - $80K   \n1                5                3         Single  Less than $40K   \n2                3                3        Married    $80K - $120K   \n3                4                1        Unknown  Less than $40K   \n4                3                0        Married     $60K - $80K   \n\n  Card_Category  Months_on_book  Total_Relationship_Count  \\\n0          Blue              39                         5   \n1          Blue              44                         6   \n2          Blue              36                         4   \n3          Blue              34                         3   \n4          Blue              21                         5   \n\n   Months_Inactive_12_mon  Contacts_Count_12_mon  Credit_Limit  \\\n0                       1                      3       12691.0   \n1                       1                      2        8256.0   \n2                       1                      0        3418.0   \n3                       4                      1        3313.0   \n4                       1                      0        4716.0   \n\n   Total_Trans_Amt  Total_Trans_Ct  Avg_Utilization_Ratio  \n0             1144              42                   1.01  \n1             1291              33                   1.45  \n2             1887              20                   0.00  \n3             1171              20                   1.16  \n4              816              28                   0.00  "
     },
     "execution_count": 15,
     "metadata": {},
     "output_type": "execute_result"
    }
   ],
   "source": [
    "category_mapping = {\"Uneducated\": 0, \"High School\": 1, \"College\": 2, \"Graduate\": 3, \"Post-Graduate\" : 4, \"Doctorate\": 5, \"Unknown\": 3 }\n",
    "for dataset in combine:\n",
    "    dataset[\"Education_Level\"] = dataset[\"Education_Level\"].map(category_mapping).astype(int)\n",
    "    \n",
    "training_data.head()"
   ]
  },
  {
   "cell_type": "code",
   "execution_count": 16,
   "metadata": {},
   "outputs": [
    {
     "data": {
      "text/plain": "array(['Married', 'Single', 'Unknown', 'Divorced'], dtype=object)"
     },
     "execution_count": 16,
     "metadata": {},
     "output_type": "execute_result"
    }
   ],
   "source": [
    "training_data['Marital_Status'].unique()"
   ]
  },
  {
   "cell_type": "code",
   "execution_count": 17,
   "metadata": {},
   "outputs": [
    {
     "data": {
      "text/plain": "Married     3774\nSingle      3186\nUnknown      604\nDivorced     595\nName: Marital_Status, dtype: int64"
     },
     "execution_count": 17,
     "metadata": {},
     "output_type": "execute_result"
    }
   ],
   "source": [
    "training_data['Marital_Status'].value_counts()"
   ]
  },
  {
   "cell_type": "code",
   "execution_count": 18,
   "metadata": {},
   "outputs": [
    {
     "data": {
      "text/html": "<div>\n<style scoped>\n    .dataframe tbody tr th:only-of-type {\n        vertical-align: middle;\n    }\n\n    .dataframe tbody tr th {\n        vertical-align: top;\n    }\n\n    .dataframe thead th {\n        text-align: right;\n    }\n</style>\n<table border=\"1\" class=\"dataframe\">\n  <thead>\n    <tr style=\"text-align: right;\">\n      <th></th>\n      <th>Unnamed: 0</th>\n      <th>CLIENTNUM</th>\n      <th>Attrition_Flag</th>\n      <th>Customer_Age</th>\n      <th>Gender</th>\n      <th>Dependent_count</th>\n      <th>Education_Level</th>\n      <th>Marital_Status</th>\n      <th>Income_Category</th>\n      <th>Card_Category</th>\n      <th>Months_on_book</th>\n      <th>Total_Relationship_Count</th>\n      <th>Months_Inactive_12_mon</th>\n      <th>Contacts_Count_12_mon</th>\n      <th>Credit_Limit</th>\n      <th>Total_Trans_Amt</th>\n      <th>Total_Trans_Ct</th>\n      <th>Avg_Utilization_Ratio</th>\n    </tr>\n  </thead>\n  <tbody>\n    <tr>\n      <th>0</th>\n      <td>1</td>\n      <td>768805383</td>\n      <td>0</td>\n      <td>45</td>\n      <td>0</td>\n      <td>3</td>\n      <td>1</td>\n      <td>1</td>\n      <td>$60K - $80K</td>\n      <td>Blue</td>\n      <td>39</td>\n      <td>5</td>\n      <td>1</td>\n      <td>3</td>\n      <td>12691.0</td>\n      <td>1144</td>\n      <td>42</td>\n      <td>1.01</td>\n    </tr>\n    <tr>\n      <th>1</th>\n      <td>2</td>\n      <td>818770008</td>\n      <td>0</td>\n      <td>49</td>\n      <td>1</td>\n      <td>5</td>\n      <td>3</td>\n      <td>2</td>\n      <td>Less than $40K</td>\n      <td>Blue</td>\n      <td>44</td>\n      <td>6</td>\n      <td>1</td>\n      <td>2</td>\n      <td>8256.0</td>\n      <td>1291</td>\n      <td>33</td>\n      <td>1.45</td>\n    </tr>\n    <tr>\n      <th>2</th>\n      <td>3</td>\n      <td>713982108</td>\n      <td>0</td>\n      <td>51</td>\n      <td>0</td>\n      <td>3</td>\n      <td>3</td>\n      <td>1</td>\n      <td>$80K - $120K</td>\n      <td>Blue</td>\n      <td>36</td>\n      <td>4</td>\n      <td>1</td>\n      <td>0</td>\n      <td>3418.0</td>\n      <td>1887</td>\n      <td>20</td>\n      <td>0.00</td>\n    </tr>\n    <tr>\n      <th>3</th>\n      <td>4</td>\n      <td>769911858</td>\n      <td>0</td>\n      <td>40</td>\n      <td>1</td>\n      <td>4</td>\n      <td>1</td>\n      <td>1</td>\n      <td>Less than $40K</td>\n      <td>Blue</td>\n      <td>34</td>\n      <td>3</td>\n      <td>4</td>\n      <td>1</td>\n      <td>3313.0</td>\n      <td>1171</td>\n      <td>20</td>\n      <td>1.16</td>\n    </tr>\n    <tr>\n      <th>4</th>\n      <td>5</td>\n      <td>709106358</td>\n      <td>0</td>\n      <td>40</td>\n      <td>0</td>\n      <td>3</td>\n      <td>0</td>\n      <td>1</td>\n      <td>$60K - $80K</td>\n      <td>Blue</td>\n      <td>21</td>\n      <td>5</td>\n      <td>1</td>\n      <td>0</td>\n      <td>4716.0</td>\n      <td>816</td>\n      <td>28</td>\n      <td>0.00</td>\n    </tr>\n  </tbody>\n</table>\n</div>",
      "text/plain": "   Unnamed: 0  CLIENTNUM  Attrition_Flag  Customer_Age  Gender  \\\n0           1  768805383               0            45       0   \n1           2  818770008               0            49       1   \n2           3  713982108               0            51       0   \n3           4  769911858               0            40       1   \n4           5  709106358               0            40       0   \n\n   Dependent_count  Education_Level  Marital_Status Income_Category  \\\n0                3                1               1     $60K - $80K   \n1                5                3               2  Less than $40K   \n2                3                3               1    $80K - $120K   \n3                4                1               1  Less than $40K   \n4                3                0               1     $60K - $80K   \n\n  Card_Category  Months_on_book  Total_Relationship_Count  \\\n0          Blue              39                         5   \n1          Blue              44                         6   \n2          Blue              36                         4   \n3          Blue              34                         3   \n4          Blue              21                         5   \n\n   Months_Inactive_12_mon  Contacts_Count_12_mon  Credit_Limit  \\\n0                       1                      3       12691.0   \n1                       1                      2        8256.0   \n2                       1                      0        3418.0   \n3                       4                      1        3313.0   \n4                       1                      0        4716.0   \n\n   Total_Trans_Amt  Total_Trans_Ct  Avg_Utilization_Ratio  \n0             1144              42                   1.01  \n1             1291              33                   1.45  \n2             1887              20                   0.00  \n3             1171              20                   1.16  \n4              816              28                   0.00  "
     },
     "execution_count": 18,
     "metadata": {},
     "output_type": "execute_result"
    }
   ],
   "source": [
    "category_mapping = {\"Married\": 1, \"Single\": 2, \"Unknown\": 1, \"Divorced\" : 3 }\n",
    "for dataset in combine:\n",
    "    dataset[\"Marital_Status\"] = dataset[\"Marital_Status\"].map(category_mapping).astype(int)\n",
    "\n",
    "training_data.head()"
   ]
  },
  {
   "cell_type": "code",
   "execution_count": 19,
   "metadata": {},
   "outputs": [
    {
     "data": {
      "text/plain": "array(['$60K - $80K', 'Less than $40K', '$80K - $120K', '$40K - $60K',\n       '$120K +', 'Unknown'], dtype=object)"
     },
     "execution_count": 19,
     "metadata": {},
     "output_type": "execute_result"
    }
   ],
   "source": [
    "training_data['Income_Category'].unique()"
   ]
  },
  {
   "cell_type": "code",
   "execution_count": 20,
   "metadata": {},
   "outputs": [
    {
     "data": {
      "text/plain": "Less than $40K    2880\n$40K - $60K       1457\n$80K - $120K      1214\n$60K - $80K       1122\nUnknown            908\n$120K +            578\nName: Income_Category, dtype: int64"
     },
     "execution_count": 20,
     "metadata": {},
     "output_type": "execute_result"
    }
   ],
   "source": [
    "training_data['Income_Category'].value_counts()"
   ]
  },
  {
   "cell_type": "code",
   "execution_count": 21,
   "metadata": {},
   "outputs": [
    {
     "data": {
      "text/html": "<div>\n<style scoped>\n    .dataframe tbody tr th:only-of-type {\n        vertical-align: middle;\n    }\n\n    .dataframe tbody tr th {\n        vertical-align: top;\n    }\n\n    .dataframe thead th {\n        text-align: right;\n    }\n</style>\n<table border=\"1\" class=\"dataframe\">\n  <thead>\n    <tr style=\"text-align: right;\">\n      <th></th>\n      <th>Unnamed: 0</th>\n      <th>CLIENTNUM</th>\n      <th>Attrition_Flag</th>\n      <th>Customer_Age</th>\n      <th>Gender</th>\n      <th>Dependent_count</th>\n      <th>Education_Level</th>\n      <th>Marital_Status</th>\n      <th>Income_Category</th>\n      <th>Card_Category</th>\n      <th>Months_on_book</th>\n      <th>Total_Relationship_Count</th>\n      <th>Months_Inactive_12_mon</th>\n      <th>Contacts_Count_12_mon</th>\n      <th>Credit_Limit</th>\n      <th>Total_Trans_Amt</th>\n      <th>Total_Trans_Ct</th>\n      <th>Avg_Utilization_Ratio</th>\n    </tr>\n  </thead>\n  <tbody>\n    <tr>\n      <th>0</th>\n      <td>1</td>\n      <td>768805383</td>\n      <td>0</td>\n      <td>45</td>\n      <td>0</td>\n      <td>3</td>\n      <td>1</td>\n      <td>1</td>\n      <td>3</td>\n      <td>Blue</td>\n      <td>39</td>\n      <td>5</td>\n      <td>1</td>\n      <td>3</td>\n      <td>12691.0</td>\n      <td>1144</td>\n      <td>42</td>\n      <td>1.01</td>\n    </tr>\n    <tr>\n      <th>1</th>\n      <td>2</td>\n      <td>818770008</td>\n      <td>0</td>\n      <td>49</td>\n      <td>1</td>\n      <td>5</td>\n      <td>3</td>\n      <td>2</td>\n      <td>1</td>\n      <td>Blue</td>\n      <td>44</td>\n      <td>6</td>\n      <td>1</td>\n      <td>2</td>\n      <td>8256.0</td>\n      <td>1291</td>\n      <td>33</td>\n      <td>1.45</td>\n    </tr>\n    <tr>\n      <th>2</th>\n      <td>3</td>\n      <td>713982108</td>\n      <td>0</td>\n      <td>51</td>\n      <td>0</td>\n      <td>3</td>\n      <td>3</td>\n      <td>1</td>\n      <td>4</td>\n      <td>Blue</td>\n      <td>36</td>\n      <td>4</td>\n      <td>1</td>\n      <td>0</td>\n      <td>3418.0</td>\n      <td>1887</td>\n      <td>20</td>\n      <td>0.00</td>\n    </tr>\n    <tr>\n      <th>3</th>\n      <td>4</td>\n      <td>769911858</td>\n      <td>0</td>\n      <td>40</td>\n      <td>1</td>\n      <td>4</td>\n      <td>1</td>\n      <td>1</td>\n      <td>1</td>\n      <td>Blue</td>\n      <td>34</td>\n      <td>3</td>\n      <td>4</td>\n      <td>1</td>\n      <td>3313.0</td>\n      <td>1171</td>\n      <td>20</td>\n      <td>1.16</td>\n    </tr>\n    <tr>\n      <th>4</th>\n      <td>5</td>\n      <td>709106358</td>\n      <td>0</td>\n      <td>40</td>\n      <td>0</td>\n      <td>3</td>\n      <td>0</td>\n      <td>1</td>\n      <td>3</td>\n      <td>Blue</td>\n      <td>21</td>\n      <td>5</td>\n      <td>1</td>\n      <td>0</td>\n      <td>4716.0</td>\n      <td>816</td>\n      <td>28</td>\n      <td>0.00</td>\n    </tr>\n  </tbody>\n</table>\n</div>",
      "text/plain": "   Unnamed: 0  CLIENTNUM  Attrition_Flag  Customer_Age  Gender  \\\n0           1  768805383               0            45       0   \n1           2  818770008               0            49       1   \n2           3  713982108               0            51       0   \n3           4  769911858               0            40       1   \n4           5  709106358               0            40       0   \n\n   Dependent_count  Education_Level  Marital_Status  Income_Category  \\\n0                3                1               1                3   \n1                5                3               2                1   \n2                3                3               1                4   \n3                4                1               1                1   \n4                3                0               1                3   \n\n  Card_Category  Months_on_book  Total_Relationship_Count  \\\n0          Blue              39                         5   \n1          Blue              44                         6   \n2          Blue              36                         4   \n3          Blue              34                         3   \n4          Blue              21                         5   \n\n   Months_Inactive_12_mon  Contacts_Count_12_mon  Credit_Limit  \\\n0                       1                      3       12691.0   \n1                       1                      2        8256.0   \n2                       1                      0        3418.0   \n3                       4                      1        3313.0   \n4                       1                      0        4716.0   \n\n   Total_Trans_Amt  Total_Trans_Ct  Avg_Utilization_Ratio  \n0             1144              42                   1.01  \n1             1291              33                   1.45  \n2             1887              20                   0.00  \n3             1171              20                   1.16  \n4              816              28                   0.00  "
     },
     "execution_count": 21,
     "metadata": {},
     "output_type": "execute_result"
    }
   ],
   "source": [
    "category_mapping = {\"Less than $40K\": 1, \"$40K - $60K\": 2, \"$60K - $80K\": 3, \"$80K - $120K\" : 4, \"$120K +\": 5, \"Unknown\": 1 }\n",
    "for dataset in combine:\n",
    "    dataset[\"Income_Category\"] = dataset[\"Income_Category\"].map(category_mapping).astype(int)\n",
    "\n",
    "training_data.head()"
   ]
  },
  {
   "cell_type": "code",
   "execution_count": 22,
   "metadata": {},
   "outputs": [
    {
     "data": {
      "text/plain": "array(['Blue', 'Gold', 'Silver', 'Platinum'], dtype=object)"
     },
     "execution_count": 22,
     "metadata": {},
     "output_type": "execute_result"
    }
   ],
   "source": [
    "training_data['Card_Category'].unique()"
   ]
  },
  {
   "cell_type": "code",
   "execution_count": 23,
   "metadata": {},
   "outputs": [
    {
     "data": {
      "text/html": "<div>\n<style scoped>\n    .dataframe tbody tr th:only-of-type {\n        vertical-align: middle;\n    }\n\n    .dataframe tbody tr th {\n        vertical-align: top;\n    }\n\n    .dataframe thead th {\n        text-align: right;\n    }\n</style>\n<table border=\"1\" class=\"dataframe\">\n  <thead>\n    <tr style=\"text-align: right;\">\n      <th></th>\n      <th>Unnamed: 0</th>\n      <th>CLIENTNUM</th>\n      <th>Attrition_Flag</th>\n      <th>Customer_Age</th>\n      <th>Gender</th>\n      <th>Dependent_count</th>\n      <th>Education_Level</th>\n      <th>Marital_Status</th>\n      <th>Income_Category</th>\n      <th>Card_Category</th>\n      <th>Months_on_book</th>\n      <th>Total_Relationship_Count</th>\n      <th>Months_Inactive_12_mon</th>\n      <th>Contacts_Count_12_mon</th>\n      <th>Credit_Limit</th>\n      <th>Total_Trans_Amt</th>\n      <th>Total_Trans_Ct</th>\n      <th>Avg_Utilization_Ratio</th>\n    </tr>\n  </thead>\n  <tbody>\n    <tr>\n      <th>0</th>\n      <td>1</td>\n      <td>768805383</td>\n      <td>0</td>\n      <td>45</td>\n      <td>0</td>\n      <td>3</td>\n      <td>1</td>\n      <td>1</td>\n      <td>3</td>\n      <td>1</td>\n      <td>39</td>\n      <td>5</td>\n      <td>1</td>\n      <td>3</td>\n      <td>12691.0</td>\n      <td>1144</td>\n      <td>42</td>\n      <td>1.01</td>\n    </tr>\n    <tr>\n      <th>1</th>\n      <td>2</td>\n      <td>818770008</td>\n      <td>0</td>\n      <td>49</td>\n      <td>1</td>\n      <td>5</td>\n      <td>3</td>\n      <td>2</td>\n      <td>1</td>\n      <td>1</td>\n      <td>44</td>\n      <td>6</td>\n      <td>1</td>\n      <td>2</td>\n      <td>8256.0</td>\n      <td>1291</td>\n      <td>33</td>\n      <td>1.45</td>\n    </tr>\n    <tr>\n      <th>2</th>\n      <td>3</td>\n      <td>713982108</td>\n      <td>0</td>\n      <td>51</td>\n      <td>0</td>\n      <td>3</td>\n      <td>3</td>\n      <td>1</td>\n      <td>4</td>\n      <td>1</td>\n      <td>36</td>\n      <td>4</td>\n      <td>1</td>\n      <td>0</td>\n      <td>3418.0</td>\n      <td>1887</td>\n      <td>20</td>\n      <td>0.00</td>\n    </tr>\n    <tr>\n      <th>3</th>\n      <td>4</td>\n      <td>769911858</td>\n      <td>0</td>\n      <td>40</td>\n      <td>1</td>\n      <td>4</td>\n      <td>1</td>\n      <td>1</td>\n      <td>1</td>\n      <td>1</td>\n      <td>34</td>\n      <td>3</td>\n      <td>4</td>\n      <td>1</td>\n      <td>3313.0</td>\n      <td>1171</td>\n      <td>20</td>\n      <td>1.16</td>\n    </tr>\n    <tr>\n      <th>4</th>\n      <td>5</td>\n      <td>709106358</td>\n      <td>0</td>\n      <td>40</td>\n      <td>0</td>\n      <td>3</td>\n      <td>0</td>\n      <td>1</td>\n      <td>3</td>\n      <td>1</td>\n      <td>21</td>\n      <td>5</td>\n      <td>1</td>\n      <td>0</td>\n      <td>4716.0</td>\n      <td>816</td>\n      <td>28</td>\n      <td>0.00</td>\n    </tr>\n  </tbody>\n</table>\n</div>",
      "text/plain": "   Unnamed: 0  CLIENTNUM  Attrition_Flag  Customer_Age  Gender  \\\n0           1  768805383               0            45       0   \n1           2  818770008               0            49       1   \n2           3  713982108               0            51       0   \n3           4  769911858               0            40       1   \n4           5  709106358               0            40       0   \n\n   Dependent_count  Education_Level  Marital_Status  Income_Category  \\\n0                3                1               1                3   \n1                5                3               2                1   \n2                3                3               1                4   \n3                4                1               1                1   \n4                3                0               1                3   \n\n   Card_Category  Months_on_book  Total_Relationship_Count  \\\n0              1              39                         5   \n1              1              44                         6   \n2              1              36                         4   \n3              1              34                         3   \n4              1              21                         5   \n\n   Months_Inactive_12_mon  Contacts_Count_12_mon  Credit_Limit  \\\n0                       1                      3       12691.0   \n1                       1                      2        8256.0   \n2                       1                      0        3418.0   \n3                       4                      1        3313.0   \n4                       1                      0        4716.0   \n\n   Total_Trans_Amt  Total_Trans_Ct  Avg_Utilization_Ratio  \n0             1144              42                   1.01  \n1             1291              33                   1.45  \n2             1887              20                   0.00  \n3             1171              20                   1.16  \n4              816              28                   0.00  "
     },
     "execution_count": 23,
     "metadata": {},
     "output_type": "execute_result"
    }
   ],
   "source": [
    "category_mapping = {\"Blue\": 1, \"Silver\": 2, \"Gold\": 3, \"Platinum\" : 4 }\n",
    "for dataset in combine:\n",
    "    dataset[\"Card_Category\"] = dataset[\"Card_Category\"].map(category_mapping)\n",
    "\n",
    "training_data.head()"
   ]
  },
  {
   "cell_type": "markdown",
   "metadata": {},
   "source": [
    "### Data Visualization"
   ]
  },
  {
   "cell_type": "code",
   "execution_count": 24,
   "metadata": {},
   "outputs": [
    {
     "data": {
      "text/plain": "<seaborn.axisgrid.FacetGrid at 0x7ff89bf6b940>"
     },
     "execution_count": 24,
     "metadata": {},
     "output_type": "execute_result"
    },
    {
     "data": {
      "image/png": "[encoded data removed]",
      "text/plain": "<Figure size 1641.6x136.8 with 6 Axes>"
     },
     "metadata": {
      "needs_background": "light",
      "transient": {}
     },
     "output_type": "display_data"
    }
   ],
   "source": [
    "import seaborn as sns\n",
    "import matplotlib.pyplot as plt\n",
    "grid = sns.FacetGrid(training_data, col='Education_Level', height=1.9, aspect=2)\n",
    "grid.map(sns.boxplot, 'Card_Category','Marital_Status', 'Education_Level', palette='deep', order=None, showfliers=True, hue_order=None)"
   ]
  },
  {
   "cell_type": "markdown",
   "metadata": {},
   "source": [
    "This the boxplot shows for every Education Level what is the most frequent Marital Status with respect to each Card Category."
   ]
  },
  {
   "cell_type": "code",
   "execution_count": 25,
   "metadata": {},
   "outputs": [
    {
     "data": {
      "image/png": "[encoded data removed]",
      "text/plain": "<Figure size 432x288 with 1 Axes>"
     },
     "metadata": {
      "needs_background": "light",
      "transient": {}
     },
     "output_type": "display_data"
    }
   ],
   "source": [
    "x = training_data['Education_Level']\n",
    "y = training_data['Total_Trans_Amt']\n",
    "plt.bar(x, y, color = \"blue\")\n",
    "plt.xlabel(\"Education_Level\")\n",
    "plt.ylabel(\"Total_Trans_Amt\")\n",
    "plt.title(\"Highest number of transactions in relation to the education level\")\n",
    "plt.show()"
   ]
  },
  {
   "cell_type": "markdown",
   "metadata": {},
   "source": [
    "This bar plot shows the number of transactions with respect to the education level.\n",
    "It could be a witty combination to individuate clusters of people with similar education level and similar expenses making."
   ]
  },
  {
   "cell_type": "code",
   "execution_count": 26,
   "metadata": {},
   "outputs": [
    {
     "data": {
      "text/plain": "<seaborn.axisgrid.FacetGrid at 0x7ff8a123f7c0>"
     },
     "execution_count": 26,
     "metadata": {},
     "output_type": "execute_result"
    },
    {
     "data": {
      "image/png": "[encoded data removed]",
      "text/plain": "<Figure size 720x360 with 2 Axes>"
     },
     "metadata": {
      "needs_background": "light",
      "transient": {}
     },
     "output_type": "display_data"
    }
   ],
   "source": [
    "g = sns.FacetGrid(training_data, col='Attrition_Flag', height=5)\n",
    "g.map(plt.hist, 'Customer_Age', bins=20)"
   ]
  },
  {
   "cell_type": "markdown",
   "metadata": {},
   "source": [
    "This last plot shows with respect to the age how many customers decide to leave or hold their credit card program."
   ]
  },
  {
   "cell_type": "code",
   "execution_count": 27,
   "metadata": {},
   "outputs": [
    {
     "data": {
      "text/plain": "((8159, 16), (1968, 16))"
     },
     "execution_count": 27,
     "metadata": {},
     "output_type": "execute_result"
    }
   ],
   "source": [
    "x_train = training_data.drop([\"CLIENTNUM\",\"Attrition_Flag\"], axis=1).copy()\n",
    "y_train = training_data[\"Attrition_Flag\"]\n",
    "x_test = testing_data.drop([\"CLIENTNUM\",\"Attrition_Flag\"], axis=1).copy() \n",
    "y_test = testing_data[\"Attrition_Flag\"]  \n",
    "\n",
    "x_train.shape, x_test.shape"
   ]
  },
  {
   "cell_type": "markdown",
   "metadata": {},
   "source": [
    "### Model Training"
   ]
  },
  {
   "cell_type": "code",
   "execution_count": 28,
   "metadata": {},
   "outputs": [],
   "source": [
    "from sklearn.neighbors import KNeighborsClassifier\n",
    "from sklearn.linear_model import LogisticRegression\n",
    "from sklearn.tree import DecisionTreeClassifier\n",
    "from sklearn.svm import SVC, LinearSVC\n",
    "from sklearn.ensemble import RandomForestClassifier\n",
    "from sklearn.metrics import confusion_matrix"
   ]
  },
  {
   "cell_type": "markdown",
   "metadata": {},
   "source": [
    "#### KNN"
   ]
  },
  {
   "cell_type": "code",
   "execution_count": 29,
   "metadata": {},
   "outputs": [
    {
     "name": "stdout",
     "output_type": "stream",
     "text": [
      "The accuracy of training data is 97.6100012256404\n",
      "The accuracy of testing data is 95.52845528455285\n",
      "The precision of the model is 0.9808383233532935\n",
      "The True Positive rate is 0.9669421487603306\n"
     ]
    }
   ],
   "source": [
    "model = KNeighborsClassifier(n_neighbors=3)\n",
    "model.fit(x_train, y_train)\n",
    "y_pred = model.predict(x_test)\n",
    "print(f'The accuracy of training data is {model.score(x_train, y_train) * 100}')\n",
    "print(f'The accuracy of testing data is {model.score(x_test, y_test) * 100}')\n",
    "cm = confusion_matrix(y_test, y_pred)\n",
    "print(f'The precision of the model is {cm[0][0]/(cm[0][0]+cm[0][1])}')\n",
    "print(f'The True Positive rate is {cm[0][0]/(cm[0][0]+cm[1][0])}')"
   ]
  },
  {
   "cell_type": "markdown",
   "metadata": {},
   "source": [
    "#### Logistic Regression"
   ]
  },
  {
   "cell_type": "code",
   "execution_count": 30,
   "metadata": {},
   "outputs": [
    {
     "name": "stdout",
     "output_type": "stream",
     "text": [
      "The accuracy of training data is 94.50913102095845\n",
      "The accuracy of testing data is 93.69918699186992\n",
      "The precision of the model is 0.9646706586826347\n",
      "The True Positive rate is 0.961217183770883\n"
     ]
    }
   ],
   "source": [
    "model = LogisticRegression(max_iter=450)\n",
    "model.fit(x_train, y_train)\n",
    "y_pred = model.predict(x_test)\n",
    "print(f'The accuracy of training data is {model.score(x_train, y_train) * 100}')\n",
    "print(f'The accuracy of testing data is {model.score(x_test, y_test) * 100}')\n",
    "cm = confusion_matrix(y_test, y_pred)\n",
    "print(f'The precision of the model is {cm[0][0]/(cm[0][0]+cm[0][1])}')\n",
    "print(f'The True Positive rate is {cm[0][0]/(cm[0][0]+cm[1][0])}')"
   ]
  },
  {
   "cell_type": "markdown",
   "metadata": {},
   "source": [
    "#### SVC"
   ]
  },
  {
   "cell_type": "code",
   "execution_count": 31,
   "metadata": {},
   "outputs": [
    {
     "name": "stdout",
     "output_type": "stream",
     "text": [
      "The accuracy of training data is 91.56759406790049\n",
      "The accuracy of testing data is 92.17479674796748\n",
      "The precision of the model is 0.9916167664670659\n",
      "The True Positive rate is 0.9220489977728286\n"
     ]
    }
   ],
   "source": [
    "model = SVC()\n",
    "model.fit(x_train, y_train)\n",
    "y_pred = model.predict(x_test)\n",
    "print(f'The accuracy of training data is {model.score(x_train, y_train) * 100}')\n",
    "print(f'The accuracy of testing data is {model.score(x_test, y_test) * 100}')\n",
    "cm = confusion_matrix(y_test, y_pred)\n",
    "print(f'The precision of the model is {cm[0][0]/(cm[0][0]+cm[0][1])}')\n",
    "print(f'The True Positive rate is {cm[0][0]/(cm[0][0]+cm[1][0])}')"
   ]
  },
  {
   "cell_type": "markdown",
   "metadata": {},
   "source": [
    "#### Decision Tree"
   ]
  },
  {
   "cell_type": "code",
   "execution_count": 32,
   "metadata": {},
   "outputs": [
    {
     "name": "stdout",
     "output_type": "stream",
     "text": [
      "The accuracy of training data is 100.0\n",
      "The accuracy of testing data is 97.35772357723577\n",
      "The precision of the model is 0.9844311377245509\n",
      "The True Positive rate is 0.9844311377245509\n"
     ]
    }
   ],
   "source": [
    "model = DecisionTreeClassifier()\n",
    "model.fit(x_train, y_train)\n",
    "y_pred = model.predict(x_test)\n",
    "print(f'The accuracy of training data is {model.score(x_train, y_train) * 100}')\n",
    "print(f'The accuracy of testing data is {model.score(x_test, y_test) * 100}')\n",
    "cm = confusion_matrix(y_test, y_pred)\n",
    "print(f'The precision of the model is {cm[0][0]/(cm[0][0]+cm[0][1])}')\n",
    "print(f'The True Positive rate is {cm[0][0]/(cm[0][0]+cm[1][0])}')"
   ]
  },
  {
   "cell_type": "markdown",
   "metadata": {},
   "source": [
    "#### Random Forest"
   ]
  },
  {
   "cell_type": "code",
   "execution_count": 33,
   "metadata": {},
   "outputs": [
    {
     "name": "stdout",
     "output_type": "stream",
     "text": [
      "The accuracy of training data is 100.0\n",
      "The accuracy of testing data is 97.76422764227642\n",
      "The precision of the model is 0.9904191616766467\n",
      "The True Positive rate is 0.9833531510107015\n"
     ]
    }
   ],
   "source": [
    "model = RandomForestClassifier(n_estimators=50)\n",
    "model.fit(x_train, y_train)\n",
    "y_pred = model.predict(x_test)\n",
    "print(f'The accuracy of training data is {model.score(x_train, y_train) * 100}')\n",
    "print(f'The accuracy of testing data is {model.score(x_test, y_test) * 100}')\n",
    "cm = confusion_matrix(y_test, y_pred)\n",
    "print(f'The precision of the model is {cm[0][0]/(cm[0][0]+cm[0][1])}')\n",
    "print(f'The True Positive rate is {cm[0][0]/(cm[0][0]+cm[1][0])}')"
   ]
  },
  {
   "cell_type": "code",
   "execution_count": 34,
   "metadata": {},
   "outputs": [
    {
     "data": {
      "text/html": "<div>\n<style scoped>\n    .dataframe tbody tr th:only-of-type {\n        vertical-align: middle;\n    }\n\n    .dataframe tbody tr th {\n        vertical-align: top;\n    }\n\n    .dataframe thead th {\n        text-align: right;\n    }\n</style>\n<table border=\"1\" class=\"dataframe\">\n  <thead>\n    <tr style=\"text-align: right;\">\n      <th></th>\n      <th>CLIENTNUM</th>\n      <th>Attrition_Flag</th>\n    </tr>\n  </thead>\n  <tbody>\n    <tr>\n      <th>0</th>\n      <td>818906208</td>\n      <td>0</td>\n    </tr>\n    <tr>\n      <th>1</th>\n      <td>710930508</td>\n      <td>0</td>\n    </tr>\n    <tr>\n      <th>2</th>\n      <td>719661558</td>\n      <td>0</td>\n    </tr>\n    <tr>\n      <th>3</th>\n      <td>710599683</td>\n      <td>0</td>\n    </tr>\n    <tr>\n      <th>4</th>\n      <td>771071958</td>\n      <td>0</td>\n    </tr>\n  </tbody>\n</table>\n</div>",
      "text/plain": "   CLIENTNUM  Attrition_Flag\n0  818906208               0\n1  710930508               0\n2  719661558               0\n3  710599683               0\n4  771071958               0"
     },
     "execution_count": 34,
     "metadata": {},
     "output_type": "execute_result"
    }
   ],
   "source": [
    "y_pred = model.predict(x_test)\n",
    "result_df = pd.DataFrame({'CLIENTNUM': testing_data['CLIENTNUM'].values, 'Attrition_Flag': y_pred})\n",
    "result_df.head()\n"
   ]
  },
  {
   "cell_type": "markdown",
   "metadata": {},
   "source": [
    "## Experimental Design:\n",
    "As briefly introduced before, we first tried to understand the request: the problem assigned was to predict a binary category: leave or not leave. Consequently, the range of algorithms to use was highly restricted. Our target algorithms were KNN and Random Forests for the reasons we listed in section ‘Introduction’. KNN is a well- known classification algorithm which samples the data into different categories working like this:\n",
    "\n",
    "1)Choose number k(odd)\n",
    "2)Take k nearest neighbors to data-point\n",
    "3)Count the number of neighbors belonging to each category\n",
    "4)Assign the new data point to the category where you counted the most neighbors.\n",
    "\n",
    "In our opinion this algorithm matched with the request because it outputs a categorical answer since permits to assign datapoints to specific groups and can efficiently deal, in terms of time, with our dataset. As expected, this algorithm produced a very high accuracy.\n",
    "Second target algorithms, which output highest accuracy, were Random Forests:\n",
    "This algorithm shows ensemble learning, works by building many cart trees, make the model less interpretable. It works like this:\n",
    "To make prediction each tree votes an outcome and pick the outcome that receives most votes.\n",
    "1) Pick at random k data points on the training set\n",
    "2) Build the decision trees associated to these k data points\n",
    "3) Choose the number of trees you want to build and then do it again\n",
    "4) To predict a Y value for a new data point, make each of the n trees choose an outcome Y for the\n",
    "datapoint and assign the new data point the average across all the predicted y values\n",
    "\n",
    "Each tree can split just on a random subset of variables and is built from a bootstrapped sample of the data. To grant meaningful results, we tried to solve the problem using completely different approaches: Logistic regression, SVM, Decision Trees. In Fact, none of these algorithms showed better results than the ones of our target algorithms.\n",
    "\n",
    "To compare the algorithms, we applied 3 different metrics: Accuracy, Precision and True positivity rate. We chose accuracy since it is the most reliable index: it shows what’s the efficiency of our predictions. Precision because accuracy may be inappropriate for imbalanced classification problems, even if it is not the case, as double check. And finally True positivity rate because what is important for us is to predict if clients will leave."
   ]
  },
  {
   "cell_type": "markdown",
   "metadata": {},
   "source": [
    "## Conclusions: \n",
    "\n",
    "From our work we denote that there exist several algorithms which could answer the problem but the algorithm which best fits the request of the bank with regards to the prediction of the client’s action is Random Forests, with results:\n",
    "\n",
    "The accuracy of training data is 100.0\n",
    "The accuracy of testing data is 97.76422764227642\n",
    "The precision of the model is 0.9904191616766467\n",
    "The True Positive rate is 0.9833531510107015\n",
    "\n",
    "\n",
    "A question that may not be fully answered is which category of clients is going to leave the credit card service. Through the application of the models, we predict who will leave the service, but not to which category most of these people belong to. For example, if the people who are not satisfied about their service are of a particular age, gender or have a specific salary range."
   ]
  }
 ],
 "metadata": {
  "kernelspec": {
   "display_name": "Python 3 (ipykernel)",
   "language": "python",
   "name": "python3"
  },
  "language_info": {
   "codemirror_mode": {
    "name": "ipython",
    "version": 3
   },
   "file_extension": ".py",
   "mimetype": "text/x-python",
   "name": "python",
   "nbconvert_exporter": "python",
   "pygments_lexer": "ipython3",
   "version": "3.8.12-final"
  },
  "orig_nbformat": 2
 },
 "nbformat": 4,
 "nbformat_minor": 2
}